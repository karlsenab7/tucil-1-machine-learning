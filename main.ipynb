{
 "cells": [
  {
   "cell_type": "code",
   "execution_count": 1,
   "metadata": {},
   "outputs": [],
   "source": [
    "# import\n",
    "from sklearn.datasets import load_breast_cancer\n",
    "from sklearn import tree, preprocessing\n",
    "from sklearn.tree import export_text\n",
    "from sklearn.model_selection import train_test_split\n",
    "from sklearn.metrics import accuracy_score, f1_score\n",
    "\n",
    "import pandas as pd\n",
    "\n",
    "import six\n",
    "import sys\n",
    "sys.modules['sklearn.externals.six'] = six\n",
    "from id3 import Id3Estimator, export_graphviz"
   ]
  },
  {
   "cell_type": "code",
   "execution_count": 2,
   "metadata": {},
   "outputs": [],
   "source": [
    "# data\n",
    "# breast_cancer\n",
    "breast_cancer = load_breast_cancer()\n",
    "X_train_bc, X_test_bc, y_train_bc, y_test_bc = train_test_split(\n",
    "    breast_cancer.data, \n",
    "    breast_cancer.target, \n",
    "    test_size=0.2,\n",
    "    random_state=0\n",
    ")\n",
    "\n",
    "# play_tennis\n",
    "play_tennis = pd.read_csv('PlayTennis.csv')\n",
    "feature_names_pt = ['Outlook','Temperature','Humidity','Wind']\n",
    "encode_play_tennis= preprocessing.LabelEncoder()\n",
    "play_tennis=play_tennis.apply(encode_play_tennis.fit_transform)\n",
    "X_train_pt, X_test_pt, y_train_pt, y_test_pt = train_test_split(\n",
    "    play_tennis[feature_names_pt], \n",
    "    play_tennis['Play Tennis'], \n",
    "    test_size=0.2,\n",
    "    random_state=0\n",
    ")"
   ]
  },
  {
   "cell_type": "markdown",
   "metadata": {},
   "source": [
    "Nomor 2 A Breast Cancer"
   ]
  },
  {
   "cell_type": "code",
   "execution_count": null,
   "metadata": {},
   "outputs": [],
   "source": [
    "# Nomor 2 A breast_cancer\n",
    "\n",
    "clf_bc_A = tree.DecisionTreeClassifier()\n",
    "clf_bc_A = clf_bc_A.fit(X_train_bc, y_train_bc)\n",
    "r = export_text(clf_bc_A, feature_names=list(breast_cancer.feature_names))\n",
    "r_predict = clf_bc_A.predict(X_test_bc)\n",
    "print(\"Accuracy Score for Breast Cancer Dataset: \", accuracy_score(y_test_bc, r_predict))\n",
    "print(\"F1 Score for Breast Cancer Dataset: \", f1_score(y_test_bc, r_predict))\n",
    "print(r)"
   ]
  },
  {
   "cell_type": "markdown",
   "metadata": {},
   "source": [
    "Nomor 2 A Play Tennis"
   ]
  },
  {
   "cell_type": "code",
   "execution_count": null,
   "metadata": {},
   "outputs": [],
   "source": [
    "# Nomor 2 A Play Tennis\n",
    "\n",
    "clf_pt_A = tree.DecisionTreeClassifier()\n",
    "clf_pt_A = clf_pt_A.fit(X_train_pt, y_train_pt)\n",
    "r = export_text(clf_pt_A, feature_names=feature_names_pt)\n",
    "r_predict = clf_pt_A.predict(X_test_pt)\n",
    "print(\"Accuracy Score for Play Tennis Dataset: \", accuracy_score(y_test_pt, r_predict))\n",
    "print(\"F1 Score for Play Tennis Dataset: \", f1_score(y_test_pt, r_predict))\n",
    "print(r)"
   ]
  },
  {
   "cell_type": "markdown",
   "metadata": {},
   "source": [
    "Nomor 2 B Breast Cancer"
   ]
  },
  {
   "cell_type": "code",
   "execution_count": null,
   "metadata": {},
   "outputs": [],
   "source": [
    "# MASIH MASALAH DI EXPORT TEXT NYA |||\n",
    "# ==================================\n",
    "clf_bc_B = Id3Estimator()\n",
    "clf_bc_B = clf_bc_B.fit(X_train_bc, y_train_bc)\n",
    "r = export_text(clf_bc_B.tree_, feature_names=list(breast_cancer.feature_names))\n",
    "r_predict = clf_bc_B.predict(X_test_bc)\n",
    "print(\"Accuracy Score for Breast Cancer Dataset: \", accuracy_score(y_test_bc, r_predict))\n",
    "print(\"F1 Score for Breast Cancer Dataset: \", f1_score(y_test_bc, r_predict))\n",
    "print(r)"
   ]
  },
  {
   "cell_type": "markdown",
   "metadata": {},
   "source": [
    "Nomor 2 B Play Tennis"
   ]
  },
  {
   "cell_type": "code",
   "execution_count": null,
   "metadata": {},
   "outputs": [],
   "source": [
    "# MASIH MASALAH DI EXPORT TEXT NYA |||\n",
    "# ==================================\n",
    "clf_pt_B = Id3Estimator()\n",
    "clf_pt_B = clf_pt_B.fit(X_train_pt, y_train_pt)\n",
    "r = export_text(clf_pt_B.tree_, feature_names=feature_names_pt)\n",
    "r_predict = clf_pt_B.predict(X_test_pt)\n",
    "print(\"Accuracy Score for Play Tennis Dataset: \", accuracy_score(y_test_pt, r_predict))\n",
    "print(\"F1 Score for Play Tennis Dataset: \", f1_score(y_test_pt, r_predict))\n",
    "print(r)"
   ]
  },
  {
   "cell_type": "code",
   "execution_count": 5,
   "metadata": {},
   "outputs": [
    {
     "data": {
      "text/plain": [
       "<_io.TextIOWrapper name='tree.dot' mode='w' encoding='utf8'>"
      ]
     },
     "execution_count": 5,
     "metadata": {},
     "output_type": "execute_result"
    }
   ],
   "source": [
    "# export to .dot file\n",
    "export_graphviz(clf_pt_B.tree_, \"tree.dot\", feature_names_pt)"
   ]
  },
  {
   "cell_type": "markdown",
   "metadata": {},
   "source": [
    "![alt text](tree.png \"tree\")"
   ]
  }
 ],
 "metadata": {
  "interpreter": {
   "hash": "2be5faf79681da6f2a61fdfdd5405d65d042280f7fba6178067603e3a2925119"
  },
  "kernelspec": {
   "display_name": "Python 3 (ipykernel)",
   "language": "python",
   "name": "python3"
  },
  "language_info": {
   "codemirror_mode": {
    "name": "ipython",
    "version": 3
   },
   "file_extension": ".py",
   "mimetype": "text/x-python",
   "name": "python",
   "nbconvert_exporter": "python",
   "pygments_lexer": "ipython3",
   "version": "3.10.0"
  }
 },
 "nbformat": 4,
 "nbformat_minor": 2
}
