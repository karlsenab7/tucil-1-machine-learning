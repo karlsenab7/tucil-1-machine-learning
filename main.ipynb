{
 "cells": [
  {
   "cell_type": "code",
   "execution_count": 109,
   "metadata": {},
   "outputs": [],
   "source": [
    "# import\n",
    "from sklearn.datasets import load_breast_cancer\n",
    "from sklearn import tree\n",
    "from sklearn.tree import export_text\n",
    "from sklearn.model_selection import train_test_split\n",
    "from sklearn.metrics import accuracy_score, f1_score"
   ]
  },
  {
   "cell_type": "code",
   "execution_count": 222,
   "metadata": {},
   "outputs": [],
   "source": [
    "# data\n",
    "breast_cancer = load_breast_cancer()\n",
    "X_train_bc, X_test_bc, y_train_bc, y_test_bc = train_test_split(\n",
    "    breast_cancer.data, \n",
    "    breast_cancer.target, \n",
    "    test_size=0.2, \n",
    "    shuffle=False,\n",
    "    random_state=0\n",
    ")"
   ]
  },
  {
   "cell_type": "markdown",
   "metadata": {},
   "source": [
    "Nomor 2 A"
   ]
  },
  {
   "cell_type": "code",
   "execution_count": 223,
   "metadata": {},
   "outputs": [
    {
     "name": "stdout",
     "output_type": "stream",
     "text": [
      "Accuracy Score for Breast Cancer Dataset:  0.8596491228070176\n",
      "F1 Score for Breast Cancer Dataset:  0.9024390243902439\n",
      "|--- worst perimeter <= 106.05\n",
      "|   |--- worst smoothness <= 0.18\n",
      "|   |   |--- worst concave points <= 0.16\n",
      "|   |   |   |--- symmetry error <= 0.01\n",
      "|   |   |   |   |--- class: 0\n",
      "|   |   |   |--- symmetry error >  0.01\n",
      "|   |   |   |   |--- worst texture <= 30.15\n",
      "|   |   |   |   |   |--- area error <= 48.98\n",
      "|   |   |   |   |   |   |--- class: 1\n",
      "|   |   |   |   |   |--- area error >  48.98\n",
      "|   |   |   |   |   |   |--- fractal dimension error <= 0.00\n",
      "|   |   |   |   |   |   |   |--- class: 0\n",
      "|   |   |   |   |   |   |--- fractal dimension error >  0.00\n",
      "|   |   |   |   |   |   |   |--- class: 1\n",
      "|   |   |   |   |--- worst texture >  30.15\n",
      "|   |   |   |   |   |--- mean fractal dimension <= 0.06\n",
      "|   |   |   |   |   |   |--- class: 0\n",
      "|   |   |   |   |   |--- mean fractal dimension >  0.06\n",
      "|   |   |   |   |   |   |--- worst concave points <= 0.09\n",
      "|   |   |   |   |   |   |   |--- class: 1\n",
      "|   |   |   |   |   |   |--- worst concave points >  0.09\n",
      "|   |   |   |   |   |   |   |--- mean concavity <= 0.05\n",
      "|   |   |   |   |   |   |   |   |--- class: 0\n",
      "|   |   |   |   |   |   |   |--- mean concavity >  0.05\n",
      "|   |   |   |   |   |   |   |   |--- class: 1\n",
      "|   |   |--- worst concave points >  0.16\n",
      "|   |   |   |--- smoothness error <= 0.01\n",
      "|   |   |   |   |--- class: 0\n",
      "|   |   |   |--- smoothness error >  0.01\n",
      "|   |   |   |   |--- class: 1\n",
      "|   |--- worst smoothness >  0.18\n",
      "|   |   |--- class: 0\n",
      "|--- worst perimeter >  106.05\n",
      "|   |--- worst perimeter <= 117.45\n",
      "|   |   |--- mean texture <= 19.36\n",
      "|   |   |   |--- mean area <= 621.25\n",
      "|   |   |   |   |--- class: 0\n",
      "|   |   |   |--- mean area >  621.25\n",
      "|   |   |   |   |--- class: 1\n",
      "|   |   |--- mean texture >  19.36\n",
      "|   |   |   |--- worst smoothness <= 0.11\n",
      "|   |   |   |   |--- class: 1\n",
      "|   |   |   |--- worst smoothness >  0.11\n",
      "|   |   |   |   |--- class: 0\n",
      "|   |--- worst perimeter >  117.45\n",
      "|   |   |--- worst smoothness <= 0.09\n",
      "|   |   |   |--- class: 1\n",
      "|   |   |--- worst smoothness >  0.09\n",
      "|   |   |   |--- class: 0\n",
      "\n"
     ]
    }
   ],
   "source": [
    "# Nomor 2 A\n",
    "\n",
    "clf = tree.DecisionTreeClassifier()\n",
    "clf = clf.fit(X_train_bc, y_train_bc)\n",
    "r = export_text(clf, feature_names=list(breast_cancer.feature_names))\n",
    "r_predict = clf.predict(X_test_bc)\n",
    "print(\"Accuracy Score for Breast Cancer Dataset: \", accuracy_score(y_test_bc, r_predict))\n",
    "print(\"F1 Score for Breast Cancer Dataset: \", f1_score(y_test_bc, r_predict))\n",
    "print(r)\n"
   ]
  }
 ],
 "metadata": {
  "interpreter": {
   "hash": "2be5faf79681da6f2a61fdfdd5405d65d042280f7fba6178067603e3a2925119"
  },
  "kernelspec": {
   "display_name": "Python 3.10.0 64-bit",
   "language": "python",
   "name": "python3"
  },
  "language_info": {
   "codemirror_mode": {
    "name": "ipython",
    "version": 3
   },
   "file_extension": ".py",
   "mimetype": "text/x-python",
   "name": "python",
   "nbconvert_exporter": "python",
   "pygments_lexer": "ipython3",
   "version": "3.10.0"
  },
  "orig_nbformat": 4
 },
 "nbformat": 4,
 "nbformat_minor": 2
}
