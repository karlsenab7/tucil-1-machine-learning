{
 "cells": [
  {
   "cell_type": "markdown",
   "metadata": {},
   "source": [
    "# Tucil 1 - Machine Learning: Eksplorasi library Decision Tree Learning pada Jupyter Notebook"
   ]
  },
  {
   "cell_type": "code",
   "execution_count": 35,
   "metadata": {},
   "outputs": [],
   "source": [
    "# import\n",
    "from sklearn.datasets import load_breast_cancer\n",
    "from sklearn import tree, preprocessing\n",
    "from sklearn.tree import export_text\n",
    "from sklearn.model_selection import train_test_split\n",
    "from sklearn.metrics import accuracy_score, f1_score\n",
    "from sklearn.linear_model import LogisticRegression\n",
    "from sklearn.pipeline import make_pipeline\n",
    "from sklearn.preprocessing import StandardScaler\n",
    "from sklearn.svm import SVC\n",
    "from sklearn.neural_network import MLPClassifier\n",
    "from sklearn.cluster import KMeans\n",
    "\n",
    "import pandas as pd\n",
    "\n",
    "import six\n",
    "import sys\n",
    "sys.modules['sklearn.externals.six'] = six\n",
    "from id3 import Id3Estimator, export_graphviz"
   ]
  },
  {
   "cell_type": "code",
   "execution_count": 36,
   "metadata": {},
   "outputs": [],
   "source": [
    "# data\n",
    "# breast_cancer\n",
    "breast_cancer = load_breast_cancer()\n",
    "X_train_bc, X_test_bc, y_train_bc, y_test_bc = train_test_split(\n",
    "    breast_cancer.data, \n",
    "    breast_cancer.target, \n",
    "    test_size=0.2,\n",
    "    random_state=0\n",
    ")\n",
    "\n",
    "# play_tennis\n",
    "play_tennis = pd.read_csv('PlayTennis.csv')\n",
    "feature_names_pt = ['Outlook','Temperature','Humidity','Wind']\n",
    "encode_play_tennis= preprocessing.LabelEncoder()\n",
    "play_tennis=play_tennis.apply(encode_play_tennis.fit_transform)\n",
    "X_train_pt, X_test_pt, y_train_pt, y_test_pt = train_test_split(\n",
    "    play_tennis[feature_names_pt], \n",
    "    play_tennis['Play Tennis'], \n",
    "    test_size=0.2,\n",
    "    random_state=0\n",
    ")"
   ]
  },
  {
   "cell_type": "markdown",
   "metadata": {},
   "source": [
    "## Nomor 2 A Breast Cancer"
   ]
  },
  {
   "cell_type": "code",
   "execution_count": 37,
   "metadata": {},
   "outputs": [
    {
     "name": "stdout",
     "output_type": "stream",
     "text": [
      "Accuracy Score for Breast Cancer Dataset:  0.9035087719298246\n",
      "F1 Score for Breast Cancer Dataset:  0.9160305343511451\n",
      "|--- worst concave points <= 0.14\n",
      "|   |--- worst area <= 957.45\n",
      "|   |   |--- worst perimeter <= 107.75\n",
      "|   |   |   |--- area error <= 91.56\n",
      "|   |   |   |   |--- mean concavity <= 0.14\n",
      "|   |   |   |   |   |--- area error <= 48.98\n",
      "|   |   |   |   |   |   |--- smoothness error <= 0.00\n",
      "|   |   |   |   |   |   |   |--- mean symmetry <= 0.18\n",
      "|   |   |   |   |   |   |   |   |--- class: 1\n",
      "|   |   |   |   |   |   |   |--- mean symmetry >  0.18\n",
      "|   |   |   |   |   |   |   |   |--- class: 0\n",
      "|   |   |   |   |   |   |--- smoothness error >  0.00\n",
      "|   |   |   |   |   |   |   |--- worst texture <= 32.83\n",
      "|   |   |   |   |   |   |   |   |--- class: 1\n",
      "|   |   |   |   |   |   |   |--- worst texture >  32.83\n",
      "|   |   |   |   |   |   |   |   |--- worst texture <= 33.81\n",
      "|   |   |   |   |   |   |   |   |   |--- class: 0\n",
      "|   |   |   |   |   |   |   |   |--- worst texture >  33.81\n",
      "|   |   |   |   |   |   |   |   |   |--- class: 1\n",
      "|   |   |   |   |   |--- area error >  48.98\n",
      "|   |   |   |   |   |   |--- texture error <= 1.94\n",
      "|   |   |   |   |   |   |   |--- class: 1\n",
      "|   |   |   |   |   |   |--- texture error >  1.94\n",
      "|   |   |   |   |   |   |   |--- class: 0\n",
      "|   |   |   |   |--- mean concavity >  0.14\n",
      "|   |   |   |   |   |--- mean compactness <= 0.12\n",
      "|   |   |   |   |   |   |--- class: 0\n",
      "|   |   |   |   |   |--- mean compactness >  0.12\n",
      "|   |   |   |   |   |   |--- class: 1\n",
      "|   |   |   |--- area error >  91.56\n",
      "|   |   |   |   |--- class: 0\n",
      "|   |   |--- worst perimeter >  107.75\n",
      "|   |   |   |--- mean perimeter <= 91.92\n",
      "|   |   |   |   |--- class: 0\n",
      "|   |   |   |--- mean perimeter >  91.92\n",
      "|   |   |   |   |--- smoothness error <= 0.01\n",
      "|   |   |   |   |   |--- class: 1\n",
      "|   |   |   |   |--- smoothness error >  0.01\n",
      "|   |   |   |   |   |--- class: 0\n",
      "|   |--- worst area >  957.45\n",
      "|   |   |--- mean symmetry <= 0.15\n",
      "|   |   |   |--- class: 1\n",
      "|   |   |--- mean symmetry >  0.15\n",
      "|   |   |   |--- class: 0\n",
      "|--- worst concave points >  0.14\n",
      "|   |--- worst area <= 729.55\n",
      "|   |   |--- mean smoothness <= 0.11\n",
      "|   |   |   |--- class: 1\n",
      "|   |   |--- mean smoothness >  0.11\n",
      "|   |   |   |--- class: 0\n",
      "|   |--- worst area >  729.55\n",
      "|   |   |--- worst texture <= 15.43\n",
      "|   |   |   |--- class: 1\n",
      "|   |   |--- worst texture >  15.43\n",
      "|   |   |   |--- worst concavity <= 0.20\n",
      "|   |   |   |   |--- class: 1\n",
      "|   |   |   |--- worst concavity >  0.20\n",
      "|   |   |   |   |--- mean texture <= 15.37\n",
      "|   |   |   |   |   |--- worst texture <= 19.69\n",
      "|   |   |   |   |   |   |--- class: 0\n",
      "|   |   |   |   |   |--- worst texture >  19.69\n",
      "|   |   |   |   |   |   |--- class: 1\n",
      "|   |   |   |   |--- mean texture >  15.37\n",
      "|   |   |   |   |   |--- class: 0\n",
      "\n"
     ]
    }
   ],
   "source": [
    "# Nomor 2 A breast_cancer\n",
    "\n",
    "clf_bc_A = tree.DecisionTreeClassifier()\n",
    "clf_bc_A = clf_bc_A.fit(X_train_bc, y_train_bc)\n",
    "r = export_text(clf_bc_A, feature_names=list(breast_cancer.feature_names))\n",
    "r_predict = clf_bc_A.predict(X_test_bc)\n",
    "print(\"Accuracy Score for Breast Cancer Dataset: \", accuracy_score(y_test_bc, r_predict))\n",
    "print(\"F1 Score for Breast Cancer Dataset: \", f1_score(y_test_bc, r_predict))\n",
    "print(r)"
   ]
  },
  {
   "cell_type": "markdown",
   "metadata": {},
   "source": [
    "## Nomor 2 A Play Tennis"
   ]
  },
  {
   "cell_type": "code",
   "execution_count": 38,
   "metadata": {},
   "outputs": [
    {
     "name": "stdout",
     "output_type": "stream",
     "text": [
      "Accuracy Score for Play Tennis Dataset:  0.3333333333333333\n",
      "F1 Score for Play Tennis Dataset:  0.5\n",
      "|--- Outlook <= 0.50\n",
      "|   |--- class: 1\n",
      "|--- Outlook >  0.50\n",
      "|   |--- Temperature <= 1.50\n",
      "|   |   |--- class: 0\n",
      "|   |--- Temperature >  1.50\n",
      "|   |   |--- Humidity <= 0.50\n",
      "|   |   |   |--- Wind <= 0.50\n",
      "|   |   |   |   |--- class: 0\n",
      "|   |   |   |--- Wind >  0.50\n",
      "|   |   |   |   |--- Outlook <= 1.50\n",
      "|   |   |   |   |   |--- class: 1\n",
      "|   |   |   |   |--- Outlook >  1.50\n",
      "|   |   |   |   |   |--- class: 0\n",
      "|   |   |--- Humidity >  0.50\n",
      "|   |   |   |--- class: 1\n",
      "\n"
     ]
    }
   ],
   "source": [
    "# Nomor 2 A Play Tennis\n",
    "\n",
    "clf_pt_A = tree.DecisionTreeClassifier()\n",
    "clf_pt_A = clf_pt_A.fit(X_train_pt, y_train_pt)\n",
    "r = export_text(clf_pt_A, feature_names=feature_names_pt)\n",
    "r_predict = clf_pt_A.predict(X_test_pt)\n",
    "print(\"Accuracy Score for Play Tennis Dataset: \", accuracy_score(y_test_pt, r_predict))\n",
    "print(\"F1 Score for Play Tennis Dataset: \", f1_score(y_test_pt, r_predict))\n",
    "print(r)"
   ]
  },
  {
   "cell_type": "markdown",
   "metadata": {},
   "source": [
    "## Nomor 2 B Breast Cancer"
   ]
  },
  {
   "cell_type": "code",
   "execution_count": 39,
   "metadata": {},
   "outputs": [
    {
     "name": "stdout",
     "output_type": "stream",
     "text": [
      "Accuracy Score for Breast Cancer Dataset:  0.9122807017543859\n",
      "F1 Score for Breast Cancer Dataset:  0.9242424242424243\n"
     ]
    }
   ],
   "source": [
    "# MASIH MASALAH DI EXPORT TEXT NYA |||\n",
    "# ==================================\n",
    "clf_bc_B = Id3Estimator()\n",
    "clf_bc_B = clf_bc_B.fit(X_train_bc, y_train_bc)\n",
    "r_predict = clf_bc_B.predict(X_test_bc)\n",
    "print(\"Accuracy Score for Breast Cancer Dataset: \", accuracy_score(y_test_bc, r_predict))\n",
    "print(\"F1 Score for Breast Cancer Dataset: \", f1_score(y_test_bc, r_predict))"
   ]
  },
  {
   "cell_type": "code",
   "execution_count": 40,
   "metadata": {},
   "outputs": [
    {
     "data": {
      "text/plain": [
       "<_io.TextIOWrapper name='id3_breast_cancer.dot' mode='w' encoding='utf8'>"
      ]
     },
     "execution_count": 40,
     "metadata": {},
     "output_type": "execute_result"
    }
   ],
   "source": [
    "# export to .dot file\n",
    "export_graphviz(clf_bc_B.tree_, \"id3_breast_cancer.dot\", list(breast_cancer.feature_names))"
   ]
  },
  {
   "cell_type": "markdown",
   "metadata": {},
   "source": [
    "to visualize file id3_breast_cancer.dot\n",
    "enter this command in terminal / cmd:\n",
    "> dot -Tpng id3_breast_cancer.dot -o id3_breast_cancer.png\n",
    ">> ![alt text](id3_breast_cancer.png \"id3_breast_cancer\")"
   ]
  },
  {
   "cell_type": "markdown",
   "metadata": {},
   "source": [
    "## Nomor 2 B Play Tennis"
   ]
  },
  {
   "cell_type": "code",
   "execution_count": 41,
   "metadata": {},
   "outputs": [
    {
     "name": "stdout",
     "output_type": "stream",
     "text": [
      "Accuracy Score for Play Tennis Dataset:  0.3333333333333333\n",
      "F1 Score for Play Tennis Dataset:  0.5\n"
     ]
    }
   ],
   "source": [
    "# MASIH MASALAH DI EXPORT TEXT NYA |||\n",
    "# ==================================\n",
    "clf_pt_B = Id3Estimator()\n",
    "clf_pt_B = clf_pt_B.fit(X_train_pt, y_train_pt)\n",
    "r_predict = clf_pt_B.predict(X_test_pt)\n",
    "print(\"Accuracy Score for Play Tennis Dataset: \", accuracy_score(y_test_pt, r_predict))\n",
    "print(\"F1 Score for Play Tennis Dataset: \", f1_score(y_test_pt, r_predict))"
   ]
  },
  {
   "cell_type": "code",
   "execution_count": 42,
   "metadata": {},
   "outputs": [
    {
     "data": {
      "text/plain": [
       "<_io.TextIOWrapper name='id3_play_tennis.dot' mode='w' encoding='utf8'>"
      ]
     },
     "execution_count": 42,
     "metadata": {},
     "output_type": "execute_result"
    }
   ],
   "source": [
    "# export to .dot file\n",
    "export_graphviz(clf_pt_B.tree_, \"id3_play_tennis.dot\", feature_names_pt)"
   ]
  },
  {
   "cell_type": "markdown",
   "metadata": {},
   "source": [
    "to visualize file id3_play_tennis.dot\n",
    "enter this command in terminal / cmd:\n",
    "> dot -Tpng id3_play_tennis.dot -o id3_play_tennis.png\n",
    ">> ![alt text](id3_play_tennis.png \"id3_play_tennis\")"
   ]
  },
  {
   "cell_type": "markdown",
   "metadata": {},
   "source": [
    "## 2 C - Breast Cancer"
   ]
  },
  {
   "cell_type": "code",
   "execution_count": 43,
   "metadata": {},
   "outputs": [
    {
     "name": "stdout",
     "output_type": "stream",
     "text": [
      "Accuracy Score for Breast cancer Dataset:  0.18421052631578946\n",
      "F1 Score for Breast cancer Dataset:  0.0\n"
     ]
    }
   ],
   "source": [
    "km = KMeans(n_clusters=2, random_state=0)\n",
    "y_km = km.fit(X_train_bc)\n",
    "r = y_km.score(X_test_bc, y_test_bc)\n",
    "r_predict = y_km.predict(X_test_bc)\n",
    "print(\"Accuracy Score for Breast cancer Dataset: \", accuracy_score(y_test_bc, r_predict))\n",
    "print(\"F1 Score for Breast cancer Dataset: \", f1_score(y_test_bc, r_predict))"
   ]
  },
  {
   "cell_type": "markdown",
   "metadata": {},
   "source": [
    "## 2 C - Play Tennis"
   ]
  },
  {
   "cell_type": "code",
   "execution_count": 44,
   "metadata": {},
   "outputs": [
    {
     "name": "stdout",
     "output_type": "stream",
     "text": [
      "Accuracy Score for Play Tennis Dataset:  0.6666666666666666\n",
      "F1 Score for Play Tennis Dataset:  0.8\n"
     ]
    }
   ],
   "source": [
    "km = KMeans(n_clusters=2, random_state=0)\n",
    "y_km = km.fit(X_train_pt)\n",
    "r = y_km.score(X_test_pt, y_test_pt);\n",
    "r_predict = y_km.predict(X_test_pt)\n",
    "print(\"Accuracy Score for Play Tennis Dataset: \", accuracy_score(y_test_pt, r_predict))\n",
    "print(\"F1 Score for Play Tennis Dataset: \", f1_score(y_test_pt, r_predict))"
   ]
  },
  {
   "cell_type": "markdown",
   "metadata": {},
   "source": [
    "## Nomor 2 D Breast Cancer"
   ]
  },
  {
   "cell_type": "code",
   "execution_count": 45,
   "metadata": {},
   "outputs": [
    {
     "name": "stdout",
     "output_type": "stream",
     "text": [
      "Accuracy Score for Breast Cancer Dataset:  0.9473684210526315\n",
      "F1 Score for Breast Cancer Dataset:  0.9538461538461538\n",
      "Logistic Regression Score for Breast Cancer Dataset:  0.9604395604395605\n"
     ]
    }
   ],
   "source": [
    "clf_bc_D = LogisticRegression(random_state=0, max_iter=5000).fit(X_train_bc, y_train_bc)\n",
    "clf_bc_D.predict(X_train_bc)\n",
    "\n",
    "clf_bc_D.predict_proba(X_train_bc)\n",
    "\n",
    "r = clf_bc_D.score(X_train_bc, y_train_bc)\n",
    "\n",
    "r_predict = clf_bc_D.predict(X_test_bc)\n",
    "print(\"Accuracy Score for Breast Cancer Dataset: \", accuracy_score(y_test_bc, r_predict))\n",
    "print(\"F1 Score for Breast Cancer Dataset: \", f1_score(y_test_bc, r_predict))\n",
    "print(\"Logistic Regression Score for Breast Cancer Dataset: \", r)"
   ]
  },
  {
   "cell_type": "markdown",
   "metadata": {},
   "source": [
    "## Nomor 2 D Play Tennis"
   ]
  },
  {
   "cell_type": "code",
   "execution_count": 46,
   "metadata": {},
   "outputs": [
    {
     "name": "stdout",
     "output_type": "stream",
     "text": [
      "Accuracy Score for Play Tennis Dataset:  0.3333333333333333\n",
      "F1 Score for Play Tennis Dataset:  0.5\n",
      "Logistic Regression Score for Play Tennis Dataset:  0.8181818181818182\n"
     ]
    }
   ],
   "source": [
    "clf_pt_D = LogisticRegression(random_state=0, max_iter=5000).fit(X_train_pt, y_train_pt)\n",
    "clf_pt_D.predict(X_train_pt)\n",
    "\n",
    "clf_pt_D.predict_proba(X_train_pt)\n",
    "\n",
    "r = clf_pt_D.score(X_train_pt, y_train_pt)\n",
    "\n",
    "r_predict = clf_pt_D.predict(X_test_pt)\n",
    "print(\"Accuracy Score for Play Tennis Dataset: \", accuracy_score(y_test_pt, r_predict))\n",
    "print(\"F1 Score for Play Tennis Dataset: \", f1_score(y_test_pt, r_predict))\n",
    "print(\"Logistic Regression Score for Play Tennis Dataset: \", r)"
   ]
  },
  {
   "cell_type": "markdown",
   "metadata": {},
   "source": [
    "## Nomor 2 E Breast Cancer"
   ]
  },
  {
   "cell_type": "code",
   "execution_count": 47,
   "metadata": {},
   "outputs": [
    {
     "name": "stdout",
     "output_type": "stream",
     "text": [
      "Accuracy Score for Breast Cancer Dataset:  0.9122807017543859\n",
      "F1 Score for Breast Cancer Dataset:  0.9305555555555556\n",
      "Multi-layer Perceptron Score for Breast Cancer Dataset:  0.9122807017543859\n"
     ]
    }
   ],
   "source": [
    "clf_bc_E = MLPClassifier(random_state=1, max_iter=300)\n",
    "clf_bc_E.fit(X_train_bc, y_train_bc)\n",
    "\n",
    "r = clf_bc_E.score(X_test_bc, y_test_bc)\n",
    "r_predict = clf_bc_E.predict(X_test_bc)\n",
    "print(\"Accuracy Score for Breast Cancer Dataset: \", accuracy_score(y_test_bc, r_predict))\n",
    "print(\"F1 Score for Breast Cancer Dataset: \", f1_score(y_test_bc, r_predict))\n",
    "print(\"Multi-layer Perceptron Score for Breast Cancer Dataset: \", r)"
   ]
  },
  {
   "cell_type": "markdown",
   "metadata": {},
   "source": [
    "## Nomor 2 E Play Tennis"
   ]
  },
  {
   "cell_type": "code",
   "execution_count": 48,
   "metadata": {},
   "outputs": [
    {
     "name": "stdout",
     "output_type": "stream",
     "text": [
      "Accuracy Score for Breast Cancer Dataset:  0.6666666666666666\n",
      "F1 Score for Breast Cancer Dataset:  0.8\n",
      "Multi-layer Perceptron Score for Play Tennis Dataset:  0.6666666666666666\n"
     ]
    }
   ],
   "source": [
    "clf_pt_E = MLPClassifier(random_state=1, max_iter=1000)\n",
    "clf_pt_E.fit(X_train_pt, y_train_pt)\n",
    "\n",
    "r = clf_pt_E.score(X_test_pt, y_test_pt)\n",
    "r_predict = clf_pt_E.predict(X_test_pt)\n",
    "print(\"Accuracy Score for Breast Cancer Dataset: \", accuracy_score(y_test_pt, r_predict))\n",
    "print(\"F1 Score for Breast Cancer Dataset: \", f1_score(y_test_pt, r_predict))\n",
    "print(\"Multi-layer Perceptron Score for Play Tennis Dataset: \", r)"
   ]
  },
  {
   "cell_type": "markdown",
   "metadata": {},
   "source": [
    "## Nomor 2 F Breast Cancer"
   ]
  },
  {
   "cell_type": "code",
   "execution_count": 49,
   "metadata": {},
   "outputs": [
    {
     "name": "stdout",
     "output_type": "stream",
     "text": [
      "Accuracy Score for Breast Cancer Dataset:  0.9824561403508771\n",
      "F1 Score for Breast Cancer Dataset:  0.9852941176470589\n",
      "SVC Score for Breast Cancer Dataset:  0.9846153846153847\n"
     ]
    }
   ],
   "source": [
    "clf_bc_D = make_pipeline(StandardScaler(), SVC(gamma='auto'))\n",
    "clf_bc_D.fit(X_train_bc, y_train_bc)\n",
    "\n",
    "r = clf_bc_D.score(X_train_bc, y_train_bc)\n",
    "r_predict = clf_bc_D.predict(X_test_bc)\n",
    "print(\"Accuracy Score for Breast Cancer Dataset: \", accuracy_score(y_test_bc, r_predict))\n",
    "print(\"F1 Score for Breast Cancer Dataset: \", f1_score(y_test_bc, r_predict))\n",
    "print(\"SVC Score for Breast Cancer Dataset: \", r)\n",
    "\n"
   ]
  },
  {
   "cell_type": "markdown",
   "metadata": {},
   "source": [
    "## Nomor 2 F Play Tennis"
   ]
  },
  {
   "cell_type": "code",
   "execution_count": 50,
   "metadata": {},
   "outputs": [
    {
     "name": "stdout",
     "output_type": "stream",
     "text": [
      "Accuracy Score for Play Tennis Dataset:  0.3333333333333333\n",
      "F1 Score for Play Tennis Dataset:  0.5\n",
      "SVC Score for Play Tennis Dataset:  1.0\n"
     ]
    }
   ],
   "source": [
    "clf_pt_D = make_pipeline(StandardScaler(), SVC(gamma='auto'))\n",
    "clf_pt_D.fit(X_train_pt, y_train_pt)\n",
    "\n",
    "r = clf_pt_D.score(X_train_pt, y_train_pt)\n",
    "r_predict = clf_pt_D.predict(X_test_pt)\n",
    "print(\"Accuracy Score for Play Tennis Dataset: \", accuracy_score(y_test_pt, r_predict))\n",
    "print(\"F1 Score for Play Tennis Dataset: \", f1_score(y_test_pt, r_predict))\n",
    "print(\"SVC Score for Play Tennis Dataset: \", r)"
   ]
  }
 ],
 "metadata": {
  "interpreter": {
   "hash": "2be5faf79681da6f2a61fdfdd5405d65d042280f7fba6178067603e3a2925119"
  },
  "kernelspec": {
   "display_name": "Python 3 (ipykernel)",
   "language": "python",
   "name": "python3"
  },
  "language_info": {
   "codemirror_mode": {
    "name": "ipython",
    "version": 3
   },
   "file_extension": ".py",
   "mimetype": "text/x-python",
   "name": "python",
   "nbconvert_exporter": "python",
   "pygments_lexer": "ipython3",
   "version": "3.9.0"
  }
 },
 "nbformat": 4,
 "nbformat_minor": 2
}
