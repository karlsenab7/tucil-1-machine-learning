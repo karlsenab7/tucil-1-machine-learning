{
 "cells": [
  {
   "cell_type": "markdown",
   "metadata": {},
   "source": [
    "# Tucil 1 - Machine Learning: Eksplorasi library Decision Tree Learning pada Jupyter Notebook\n",
    "\n",
    "## Anggota Kelompok\n",
    "### - 13519001 - Karlsen Adiyasa Bachtiar\n",
    "### - 13519051 - Yudi Alfayat"
   ]
  },
  {
   "cell_type": "code",
   "execution_count": 211,
   "metadata": {},
   "outputs": [],
   "source": [
    "# import\n",
    "from sklearn.datasets import load_breast_cancer\n",
    "from sklearn import tree, preprocessing\n",
    "from sklearn.tree import export_text\n",
    "from sklearn.model_selection import train_test_split\n",
    "from sklearn.metrics import accuracy_score, f1_score\n",
    "from sklearn.linear_model import LogisticRegression\n",
    "from sklearn.pipeline import make_pipeline\n",
    "from sklearn.preprocessing import StandardScaler\n",
    "from sklearn.svm import SVC\n",
    "from sklearn.neural_network import MLPClassifier\n",
    "from sklearn.cluster import KMeans\n",
    "\n",
    "import pandas as pd\n",
    "\n",
    "import six\n",
    "import sys\n",
    "sys.modules['sklearn.externals.six'] = six\n",
    "from id3 import Id3Estimator, export_graphviz"
   ]
  },
  {
   "cell_type": "code",
   "execution_count": 212,
   "metadata": {},
   "outputs": [],
   "source": [
    "# data\n",
    "# breast_cancer\n",
    "breast_cancer = load_breast_cancer()\n",
    "X_train_bc, X_test_bc, y_train_bc, y_test_bc = train_test_split(\n",
    "    breast_cancer.data, \n",
    "    breast_cancer.target, \n",
    "    test_size=0.2,\n",
    "    random_state=0\n",
    ")\n",
    "\n",
    "# play_tennis\n",
    "play_tennis = pd.read_csv('PlayTennis.csv')\n",
    "feature_names_pt = ['Outlook','Temperature','Humidity','Wind']\n",
    "encode_play_tennis= preprocessing.LabelEncoder()\n",
    "play_tennis=play_tennis.apply(encode_play_tennis.fit_transform)\n",
    "X_train_pt, X_test_pt, y_train_pt, y_test_pt = train_test_split(\n",
    "    play_tennis[feature_names_pt], \n",
    "    play_tennis['Play Tennis'], \n",
    "    test_size=0.2,\n",
    "    random_state=0\n",
    ")"
   ]
  },
  {
   "cell_type": "markdown",
   "metadata": {},
   "source": [
    "## Nomor 2 A Breast Cancer"
   ]
  },
  {
   "cell_type": "code",
   "execution_count": 213,
   "metadata": {},
   "outputs": [
    {
     "name": "stdout",
     "output_type": "stream",
     "text": [
      "Accuracy Score for Breast Cancer Dataset:  0.9122807017543859\n",
      "F1 Score for Breast Cancer Dataset:  0.923076923076923\n",
      "|--- worst concave points <= 0.14\n",
      "|   |--- worst area <= 957.45\n",
      "|   |   |--- worst perimeter <= 107.75\n",
      "|   |   |   |--- symmetry error <= 0.01\n",
      "|   |   |   |   |--- class: 0\n",
      "|   |   |   |--- symmetry error >  0.01\n",
      "|   |   |   |   |--- mean concavity <= 0.14\n",
      "|   |   |   |   |   |--- area error <= 48.98\n",
      "|   |   |   |   |   |   |--- smoothness error <= 0.00\n",
      "|   |   |   |   |   |   |   |--- worst concavity <= 0.19\n",
      "|   |   |   |   |   |   |   |   |--- class: 1\n",
      "|   |   |   |   |   |   |   |--- worst concavity >  0.19\n",
      "|   |   |   |   |   |   |   |   |--- class: 0\n",
      "|   |   |   |   |   |   |--- smoothness error >  0.00\n",
      "|   |   |   |   |   |   |   |--- worst texture <= 32.83\n",
      "|   |   |   |   |   |   |   |   |--- class: 1\n",
      "|   |   |   |   |   |   |   |--- worst texture >  32.83\n",
      "|   |   |   |   |   |   |   |   |--- worst texture <= 33.81\n",
      "|   |   |   |   |   |   |   |   |   |--- class: 0\n",
      "|   |   |   |   |   |   |   |   |--- worst texture >  33.81\n",
      "|   |   |   |   |   |   |   |   |   |--- class: 1\n",
      "|   |   |   |   |   |--- area error >  48.98\n",
      "|   |   |   |   |   |   |--- concave points error <= 0.02\n",
      "|   |   |   |   |   |   |   |--- class: 0\n",
      "|   |   |   |   |   |   |--- concave points error >  0.02\n",
      "|   |   |   |   |   |   |   |--- class: 1\n",
      "|   |   |   |   |--- mean concavity >  0.14\n",
      "|   |   |   |   |   |--- worst area <= 654.45\n",
      "|   |   |   |   |   |   |--- class: 1\n",
      "|   |   |   |   |   |--- worst area >  654.45\n",
      "|   |   |   |   |   |   |--- class: 0\n",
      "|   |   |--- worst perimeter >  107.75\n",
      "|   |   |   |--- mean area <= 610.40\n",
      "|   |   |   |   |--- class: 0\n",
      "|   |   |   |--- mean area >  610.40\n",
      "|   |   |   |   |--- smoothness error <= 0.01\n",
      "|   |   |   |   |   |--- class: 1\n",
      "|   |   |   |   |--- smoothness error >  0.01\n",
      "|   |   |   |   |   |--- class: 0\n",
      "|   |--- worst area >  957.45\n",
      "|   |   |--- mean symmetry <= 0.15\n",
      "|   |   |   |--- class: 1\n",
      "|   |   |--- mean symmetry >  0.15\n",
      "|   |   |   |--- class: 0\n",
      "|--- worst concave points >  0.14\n",
      "|   |--- worst area <= 729.55\n",
      "|   |   |--- mean smoothness <= 0.11\n",
      "|   |   |   |--- class: 1\n",
      "|   |   |--- mean smoothness >  0.11\n",
      "|   |   |   |--- class: 0\n",
      "|   |--- worst area >  729.55\n",
      "|   |   |--- worst concavity <= 0.20\n",
      "|   |   |   |--- class: 1\n",
      "|   |   |--- worst concavity >  0.20\n",
      "|   |   |   |--- worst texture <= 15.43\n",
      "|   |   |   |   |--- class: 1\n",
      "|   |   |   |--- worst texture >  15.43\n",
      "|   |   |   |   |--- radius error <= 0.24\n",
      "|   |   |   |   |   |--- worst concave points <= 0.16\n",
      "|   |   |   |   |   |   |--- class: 1\n",
      "|   |   |   |   |   |--- worst concave points >  0.16\n",
      "|   |   |   |   |   |   |--- class: 0\n",
      "|   |   |   |   |--- radius error >  0.24\n",
      "|   |   |   |   |   |--- class: 0\n",
      "\n"
     ]
    }
   ],
   "source": [
    "# Nomor 2 A breast_cancer\n",
    "\n",
    "clf_bc_A = tree.DecisionTreeClassifier()\n",
    "clf_bc_A = clf_bc_A.fit(X_train_bc, y_train_bc)\n",
    "r = export_text(clf_bc_A, feature_names=list(breast_cancer.feature_names))\n",
    "r_predict = clf_bc_A.predict(X_test_bc)\n",
    "acc_A_bc = accuracy_score(y_test_bc, r_predict)\n",
    "f1_A_bc = f1_score(y_test_bc, r_predict)\n",
    "print(\"Accuracy Score for Breast Cancer Dataset: \", acc_A_bc)\n",
    "print(\"F1 Score for Breast Cancer Dataset: \", f1_A_bc)\n",
    "print(r)"
   ]
  },
  {
   "cell_type": "markdown",
   "metadata": {},
   "source": [
    "## Nomor 2 A Play Tennis"
   ]
  },
  {
   "cell_type": "code",
   "execution_count": 214,
   "metadata": {},
   "outputs": [
    {
     "name": "stdout",
     "output_type": "stream",
     "text": [
      "Accuracy Score for Play Tennis Dataset:  0.3333333333333333\n",
      "F1 Score for Play Tennis Dataset:  0.5\n",
      "|--- Outlook <= 0.50\n",
      "|   |--- class: 1\n",
      "|--- Outlook >  0.50\n",
      "|   |--- Temperature <= 1.50\n",
      "|   |   |--- class: 0\n",
      "|   |--- Temperature >  1.50\n",
      "|   |   |--- Humidity <= 0.50\n",
      "|   |   |   |--- Wind <= 0.50\n",
      "|   |   |   |   |--- class: 0\n",
      "|   |   |   |--- Wind >  0.50\n",
      "|   |   |   |   |--- Outlook <= 1.50\n",
      "|   |   |   |   |   |--- class: 1\n",
      "|   |   |   |   |--- Outlook >  1.50\n",
      "|   |   |   |   |   |--- class: 0\n",
      "|   |   |--- Humidity >  0.50\n",
      "|   |   |   |--- class: 1\n",
      "\n"
     ]
    }
   ],
   "source": [
    "# Nomor 2 A Play Tennis\n",
    "\n",
    "clf_pt_A = tree.DecisionTreeClassifier()\n",
    "clf_pt_A = clf_pt_A.fit(X_train_pt, y_train_pt)\n",
    "r = export_text(clf_pt_A, feature_names=feature_names_pt)\n",
    "r_predict = clf_pt_A.predict(X_test_pt)\n",
    "acc_A_pt = accuracy_score(y_test_pt, r_predict)\n",
    "f1_A_pt = f1_score(y_test_pt, r_predict)\n",
    "print(\"Accuracy Score for Play Tennis Dataset: \", acc_A_pt)\n",
    "print(\"F1 Score for Play Tennis Dataset: \", f1_A_pt)\n",
    "print(r)"
   ]
  },
  {
   "cell_type": "markdown",
   "metadata": {},
   "source": [
    "## Nomor 2 B Breast Cancer"
   ]
  },
  {
   "cell_type": "code",
   "execution_count": 215,
   "metadata": {},
   "outputs": [
    {
     "name": "stdout",
     "output_type": "stream",
     "text": [
      "Accuracy Score for Breast Cancer Dataset:  0.9122807017543859\n",
      "F1 Score for Breast Cancer Dataset:  0.9242424242424243\n"
     ]
    }
   ],
   "source": [
    "clf_bc_B = Id3Estimator()\n",
    "clf_bc_B = clf_bc_B.fit(X_train_bc, y_train_bc)\n",
    "r_predict = clf_bc_B.predict(X_test_bc)\n",
    "acc_B_bc = accuracy_score(y_test_bc, r_predict)\n",
    "f1_B_bc = f1_score(y_test_bc, r_predict)\n",
    "print(\"Accuracy Score for Breast Cancer Dataset: \", acc_B_bc)\n",
    "print(\"F1 Score for Breast Cancer Dataset: \", f1_B_bc)"
   ]
  },
  {
   "cell_type": "code",
   "execution_count": 216,
   "metadata": {},
   "outputs": [
    {
     "data": {
      "text/plain": [
       "<_io.TextIOWrapper name='id3_breast_cancer.dot' mode='w' encoding='utf8'>"
      ]
     },
     "execution_count": 216,
     "metadata": {},
     "output_type": "execute_result"
    }
   ],
   "source": [
    "# export to .dot file\n",
    "export_graphviz(clf_bc_B.tree_, \"id3_breast_cancer.dot\", list(breast_cancer.feature_names))"
   ]
  },
  {
   "cell_type": "markdown",
   "metadata": {},
   "source": [
    "to visualize file id3_breast_cancer.dot\n",
    "enter this command in terminal / cmd:\n",
    "> dot -Tpng id3_breast_cancer.dot -o id3_breast_cancer.png\n",
    ">> ![alt text](id3_breast_cancer.png \"id3_breast_cancer\")"
   ]
  },
  {
   "cell_type": "markdown",
   "metadata": {},
   "source": [
    "## Nomor 2 B Play Tennis"
   ]
  },
  {
   "cell_type": "code",
   "execution_count": 217,
   "metadata": {},
   "outputs": [
    {
     "name": "stdout",
     "output_type": "stream",
     "text": [
      "Accuracy Score for Play Tennis Dataset:  0.3333333333333333\n",
      "F1 Score for Play Tennis Dataset:  0.5\n"
     ]
    }
   ],
   "source": [
    "clf_pt_B = Id3Estimator()\n",
    "clf_pt_B = clf_pt_B.fit(X_train_pt, y_train_pt)\n",
    "r_predict = clf_pt_B.predict(X_test_pt)\n",
    "acc_B_pt = accuracy_score(y_test_pt, r_predict)\n",
    "f1_B_pt = f1_score(y_test_pt, r_predict)\n",
    "print(\"Accuracy Score for Play Tennis Dataset: \", acc_B_pt)\n",
    "print(\"F1 Score for Play Tennis Dataset: \", f1_B_pt)"
   ]
  },
  {
   "cell_type": "code",
   "execution_count": 218,
   "metadata": {},
   "outputs": [
    {
     "data": {
      "text/plain": [
       "<_io.TextIOWrapper name='id3_play_tennis.dot' mode='w' encoding='utf8'>"
      ]
     },
     "execution_count": 218,
     "metadata": {},
     "output_type": "execute_result"
    }
   ],
   "source": [
    "# export to .dot file\n",
    "export_graphviz(clf_pt_B.tree_, \"id3_play_tennis.dot\", feature_names_pt)"
   ]
  },
  {
   "cell_type": "markdown",
   "metadata": {},
   "source": [
    "to visualize file id3_play_tennis.dot\n",
    "enter this command in terminal / cmd:\n",
    "> dot -Tpng id3_play_tennis.dot -o id3_play_tennis.png\n",
    ">> ![alt text](id3_play_tennis.png \"id3_play_tennis\")"
   ]
  },
  {
   "cell_type": "markdown",
   "metadata": {},
   "source": [
    "## 2 C - Breast Cancer"
   ]
  },
  {
   "cell_type": "code",
   "execution_count": 219,
   "metadata": {},
   "outputs": [
    {
     "name": "stdout",
     "output_type": "stream",
     "text": [
      "Accuracy Score for Breast Cancer Dataset:  0.18421052631578946\n",
      "F1 Score for Breast Cancer Dataset:  0.0\n"
     ]
    }
   ],
   "source": [
    "km = KMeans(n_clusters=2, random_state=0)\n",
    "y_km = km.fit(X_train_bc)\n",
    "r = y_km.score(X_test_bc, y_test_bc)\n",
    "r_predict = y_km.predict(X_test_bc)\n",
    "acc_C_bc = accuracy_score(y_test_bc, r_predict)\n",
    "f1_C_bc = f1_score(y_test_bc, r_predict)\n",
    "print(\"Accuracy Score for Breast Cancer Dataset: \", acc_C_bc)\n",
    "print(\"F1 Score for Breast Cancer Dataset: \", f1_C_bc)"
   ]
  },
  {
   "cell_type": "markdown",
   "metadata": {},
   "source": [
    "## 2 C - Play Tennis"
   ]
  },
  {
   "cell_type": "code",
   "execution_count": 220,
   "metadata": {},
   "outputs": [
    {
     "name": "stdout",
     "output_type": "stream",
     "text": [
      "Accuracy Score for Play Tennis Dataset:  0.6666666666666666\n",
      "F1 Score for Play Tennis Dataset:  0.8\n"
     ]
    }
   ],
   "source": [
    "km = KMeans(n_clusters=2, random_state=0)\n",
    "y_km = km.fit(X_train_pt)\n",
    "r = y_km.score(X_test_pt, y_test_pt);\n",
    "r_predict = y_km.predict(X_test_pt)\n",
    "acc_C_pt = accuracy_score(y_test_pt, r_predict)\n",
    "f1_C_pt = f1_score(y_test_pt, r_predict)\n",
    "print(\"Accuracy Score for Play Tennis Dataset: \", acc_C_pt)\n",
    "print(\"F1 Score for Play Tennis Dataset: \", f1_C_pt)"
   ]
  },
  {
   "cell_type": "markdown",
   "metadata": {},
   "source": [
    "## Nomor 2 D Breast Cancer"
   ]
  },
  {
   "cell_type": "code",
   "execution_count": 221,
   "metadata": {},
   "outputs": [
    {
     "name": "stdout",
     "output_type": "stream",
     "text": [
      "Accuracy Score for Breast Cancer Dataset:  0.9473684210526315\n",
      "F1 Score for Breast Cancer Dataset:  0.9538461538461538\n"
     ]
    }
   ],
   "source": [
    "clf_bc_D = LogisticRegression(random_state=0, max_iter=5000).fit(X_train_bc, y_train_bc)\n",
    "clf_bc_D.predict(X_train_bc)\n",
    "\n",
    "clf_bc_D.predict_proba(X_train_bc)\n",
    "\n",
    "r = clf_bc_D.score(X_train_bc, y_train_bc)\n",
    "\n",
    "r_predict = clf_bc_D.predict(X_test_bc)\n",
    "acc_D_bc = accuracy_score(y_test_bc, r_predict)\n",
    "f1_D_bc = f1_score(y_test_bc, r_predict)\n",
    "print(\"Accuracy Score for Breast Cancer Dataset: \", acc_D_bc)\n",
    "print(\"F1 Score for Breast Cancer Dataset: \", f1_D_bc)"
   ]
  },
  {
   "cell_type": "markdown",
   "metadata": {},
   "source": [
    "## Nomor 2 D Play Tennis"
   ]
  },
  {
   "cell_type": "code",
   "execution_count": 222,
   "metadata": {},
   "outputs": [
    {
     "name": "stdout",
     "output_type": "stream",
     "text": [
      "Accuracy Score for Play Tennis Dataset:  0.3333333333333333\n",
      "F1 Score for Play Tennis Dataset:  0.5\n"
     ]
    }
   ],
   "source": [
    "clf_pt_D = LogisticRegression(random_state=0, max_iter=5000).fit(X_train_pt, y_train_pt)\n",
    "clf_pt_D.predict(X_train_pt)\n",
    "\n",
    "clf_pt_D.predict_proba(X_train_pt)\n",
    "\n",
    "r = clf_pt_D.score(X_train_pt, y_train_pt)\n",
    "\n",
    "r_predict = clf_pt_D.predict(X_test_pt)\n",
    "acc_D_pt = accuracy_score(y_test_pt, r_predict)\n",
    "f1_D_pt = f1_score(y_test_pt, r_predict)\n",
    "print(\"Accuracy Score for Play Tennis Dataset: \", acc_D_pt)\n",
    "print(\"F1 Score for Play Tennis Dataset: \", f1_D_pt)"
   ]
  },
  {
   "cell_type": "markdown",
   "metadata": {},
   "source": [
    "## Nomor 2 E Breast Cancer"
   ]
  },
  {
   "cell_type": "code",
   "execution_count": 223,
   "metadata": {},
   "outputs": [
    {
     "name": "stdout",
     "output_type": "stream",
     "text": [
      "Accuracy Score for Breast Cancer Dataset:  0.9122807017543859\n",
      "F1 Score for Breast Cancer Dataset:  0.9305555555555556\n"
     ]
    }
   ],
   "source": [
    "clf_bc_E = MLPClassifier(random_state=1, max_iter=300)\n",
    "clf_bc_E.fit(X_train_bc, y_train_bc)\n",
    "\n",
    "r = clf_bc_E.score(X_test_bc, y_test_bc)\n",
    "r_predict = clf_bc_E.predict(X_test_bc)\n",
    "acc_E_bc = accuracy_score(y_test_bc, r_predict)\n",
    "f1_E_bc = f1_score(y_test_bc, r_predict)\n",
    "print(\"Accuracy Score for Breast Cancer Dataset: \", acc_E_bc)\n",
    "print(\"F1 Score for Breast Cancer Dataset: \", f1_E_bc)"
   ]
  },
  {
   "cell_type": "markdown",
   "metadata": {},
   "source": [
    "## Nomor 2 E Play Tennis"
   ]
  },
  {
   "cell_type": "code",
   "execution_count": 224,
   "metadata": {},
   "outputs": [
    {
     "name": "stdout",
     "output_type": "stream",
     "text": [
      "Accuracy Score for Play Tennis Dataset:  0.6666666666666666\n",
      "F1 Score for Play Tennis Dataset:  0.8\n"
     ]
    }
   ],
   "source": [
    "clf_pt_E = MLPClassifier(random_state=1, max_iter=1000)\n",
    "clf_pt_E.fit(X_train_pt, y_train_pt)\n",
    "\n",
    "r = clf_pt_E.score(X_test_pt, y_test_pt)\n",
    "r_predict = clf_pt_E.predict(X_test_pt)\n",
    "acc_E_pt = accuracy_score(y_test_pt, r_predict)\n",
    "f1_E_pt = f1_score(y_test_pt, r_predict)\n",
    "print(\"Accuracy Score for Play Tennis Dataset: \", acc_E_pt)\n",
    "print(\"F1 Score for Play Tennis Dataset: \", f1_E_pt)"
   ]
  },
  {
   "cell_type": "markdown",
   "metadata": {},
   "source": [
    "## Nomor 2 F Breast Cancer"
   ]
  },
  {
   "cell_type": "code",
   "execution_count": 225,
   "metadata": {},
   "outputs": [
    {
     "name": "stdout",
     "output_type": "stream",
     "text": [
      "Accuracy Score for Breast Cancer Dataset:  0.9824561403508771\n",
      "F1 Score for Breast Cancer Dataset:  0.9852941176470589\n"
     ]
    }
   ],
   "source": [
    "clf_bc_D = make_pipeline(StandardScaler(), SVC(gamma='auto'))\n",
    "clf_bc_D.fit(X_train_bc, y_train_bc)\n",
    "\n",
    "r = clf_bc_D.score(X_train_bc, y_train_bc)\n",
    "r_predict = clf_bc_D.predict(X_test_bc)\n",
    "acc_F_bc = accuracy_score(y_test_bc, r_predict)\n",
    "f1_F_bc = f1_score(y_test_bc, r_predict)\n",
    "print(\"Accuracy Score for Breast Cancer Dataset: \", acc_F_bc)\n",
    "print(\"F1 Score for Breast Cancer Dataset: \", f1_F_bc)\n"
   ]
  },
  {
   "cell_type": "markdown",
   "metadata": {},
   "source": [
    "## Nomor 2 F Play Tennis"
   ]
  },
  {
   "cell_type": "code",
   "execution_count": 226,
   "metadata": {},
   "outputs": [
    {
     "name": "stdout",
     "output_type": "stream",
     "text": [
      "Accuracy Score for Play Tennis Dataset:  0.3333333333333333\n",
      "F1 Score for Play Tennis Dataset:  0.5\n"
     ]
    }
   ],
   "source": [
    "clf_pt_D = make_pipeline(StandardScaler(), SVC(gamma='auto'))\n",
    "clf_pt_D.fit(X_train_pt, y_train_pt)\n",
    "\n",
    "r = clf_pt_D.score(X_train_pt, y_train_pt)\n",
    "r_predict = clf_pt_D.predict(X_test_pt)\n",
    "acc_F_pt = accuracy_score(y_test_pt, r_predict)\n",
    "f1_F_pt = f1_score(y_test_pt, r_predict)\n",
    "print(\"Accuracy Score for Play Tennis Dataset: \", acc_F_pt)\n",
    "print(\"F1 Score for Play Tennis Dataset: \", f1_F_pt)"
   ]
  },
  {
   "cell_type": "code",
   "execution_count": 227,
   "metadata": {},
   "outputs": [
    {
     "data": {
      "text/html": [
       "<div>\n",
       "<style scoped>\n",
       "    .dataframe tbody tr th:only-of-type {\n",
       "        vertical-align: middle;\n",
       "    }\n",
       "\n",
       "    .dataframe tbody tr th {\n",
       "        vertical-align: top;\n",
       "    }\n",
       "\n",
       "    .dataframe thead th {\n",
       "        text-align: right;\n",
       "    }\n",
       "</style>\n",
       "<table border=\"1\" class=\"dataframe\">\n",
       "  <thead>\n",
       "    <tr style=\"text-align: right;\">\n",
       "      <th></th>\n",
       "      <th>DecisionTreeClassifier</th>\n",
       "      <th>Id3Estimator</th>\n",
       "      <th>K-Means</th>\n",
       "      <th>LogisticRegression</th>\n",
       "      <th>Neural_network</th>\n",
       "      <th>SVM</th>\n",
       "    </tr>\n",
       "  </thead>\n",
       "  <tbody>\n",
       "    <tr>\n",
       "      <th>Acc BC</th>\n",
       "      <td>0.912281</td>\n",
       "      <td>0.912281</td>\n",
       "      <td>0.184211</td>\n",
       "      <td>0.947368</td>\n",
       "      <td>0.912281</td>\n",
       "      <td>0.982456</td>\n",
       "    </tr>\n",
       "    <tr>\n",
       "      <th>F1 BC</th>\n",
       "      <td>0.923077</td>\n",
       "      <td>0.924242</td>\n",
       "      <td>0.000000</td>\n",
       "      <td>0.953846</td>\n",
       "      <td>0.930556</td>\n",
       "      <td>0.985294</td>\n",
       "    </tr>\n",
       "  </tbody>\n",
       "</table>\n",
       "</div>"
      ],
      "text/plain": [
       "        DecisionTreeClassifier  Id3Estimator   K-Means  LogisticRegression  \\\n",
       "Acc BC                0.912281      0.912281  0.184211            0.947368   \n",
       "F1 BC                 0.923077      0.924242  0.000000            0.953846   \n",
       "\n",
       "        Neural_network       SVM  \n",
       "Acc BC        0.912281  0.982456  \n",
       "F1 BC         0.930556  0.985294  "
      ]
     },
     "execution_count": 227,
     "metadata": {},
     "output_type": "execute_result"
    }
   ],
   "source": [
    "accs_bc = [acc_A_bc, acc_B_bc, acc_C_bc, acc_D_bc, acc_E_bc, acc_F_bc]\n",
    "f1_bc = [f1_A_bc, f1_B_bc, f1_C_bc, f1_D_bc, f1_E_bc, f1_F_bc]\n",
    "\n",
    "data_bc = [accs_bc, f1_bc]\n",
    "\n",
    "indexes = [\"Acc BC\", \"F1 BC\"]\n",
    "\n",
    "headers = [\"DecisionTreeClassifier\", \"Id3Estimator\", \"K-Means\", \"LogisticRegression\", \"Neural_network\", \"SVM\"]\n",
    "\n",
    "pd.DataFrame(data=data_bc, columns=headers, index=indexes)"
   ]
  },
  {
   "cell_type": "markdown",
   "metadata": {},
   "source": [
    "### Berdasarkan beberapa model algoritma yang sudah diuji dengan dataset 'Breast Cancer', didapatkan algoritma SVM memiliki skor akurasi dan F1 yang paling tinggi, yaitu 0.982456 untuk nilai akurasi dan 0.985294 untuk F1"
   ]
  },
  {
   "cell_type": "code",
   "execution_count": 229,
   "metadata": {},
   "outputs": [
    {
     "data": {
      "text/html": [
       "<div>\n",
       "<style scoped>\n",
       "    .dataframe tbody tr th:only-of-type {\n",
       "        vertical-align: middle;\n",
       "    }\n",
       "\n",
       "    .dataframe tbody tr th {\n",
       "        vertical-align: top;\n",
       "    }\n",
       "\n",
       "    .dataframe thead th {\n",
       "        text-align: right;\n",
       "    }\n",
       "</style>\n",
       "<table border=\"1\" class=\"dataframe\">\n",
       "  <thead>\n",
       "    <tr style=\"text-align: right;\">\n",
       "      <th></th>\n",
       "      <th>DecisionTreeClassifier</th>\n",
       "      <th>Id3Estimator</th>\n",
       "      <th>K-Means</th>\n",
       "      <th>LogisticRegression</th>\n",
       "      <th>Neural_network</th>\n",
       "      <th>SVM</th>\n",
       "    </tr>\n",
       "  </thead>\n",
       "  <tbody>\n",
       "    <tr>\n",
       "      <th>Acc PT</th>\n",
       "      <td>0.333333</td>\n",
       "      <td>0.333333</td>\n",
       "      <td>0.666667</td>\n",
       "      <td>0.333333</td>\n",
       "      <td>0.666667</td>\n",
       "      <td>0.333333</td>\n",
       "    </tr>\n",
       "    <tr>\n",
       "      <th>F1 PT</th>\n",
       "      <td>0.500000</td>\n",
       "      <td>0.500000</td>\n",
       "      <td>0.800000</td>\n",
       "      <td>0.500000</td>\n",
       "      <td>0.800000</td>\n",
       "      <td>0.500000</td>\n",
       "    </tr>\n",
       "  </tbody>\n",
       "</table>\n",
       "</div>"
      ],
      "text/plain": [
       "        DecisionTreeClassifier  Id3Estimator   K-Means  LogisticRegression  \\\n",
       "Acc PT                0.333333      0.333333  0.666667            0.333333   \n",
       "F1 PT                 0.500000      0.500000  0.800000            0.500000   \n",
       "\n",
       "        Neural_network       SVM  \n",
       "Acc PT        0.666667  0.333333  \n",
       "F1 PT         0.800000  0.500000  "
      ]
     },
     "execution_count": 229,
     "metadata": {},
     "output_type": "execute_result"
    }
   ],
   "source": [
    "accs_pt = [acc_A_pt, acc_B_pt, acc_C_pt, acc_D_pt, acc_E_pt, acc_F_pt]\n",
    "f1s_pt = [f1_A_pt, f1_B_pt, f1_C_pt, f1_D_pt, f1_E_pt, f1_F_pt]\n",
    "data = [accs_pt, f1s_pt]\n",
    "indexes = [\"Acc PT\", \"F1 PT\"]\n",
    "\n",
    "headers = [\"DecisionTreeClassifier\", \"Id3Estimator\", \"K-Means\", \"LogisticRegression\", \"Neural_network\", \"SVM\"]\n",
    "\n",
    "pd.DataFrame(data=data, columns=headers, index=indexes)"
   ]
  },
  {
   "cell_type": "markdown",
   "metadata": {},
   "source": [
    "### Berdasarkan beberapa model algoritma yang sudah diuji dengan dataset 'Play Tennis', didapatkan algoritma K-Means dan Neural Network memiliki skor akurasi dan F1 yang paling tinggi, yaitu 0.666667 untuk nilai akurasi dan 0.800000 untuk F1. Hasil perhitungan akurasi dan F1 pada dataset 'Play Tennis' mirip dikarenakan jumlah data pada dataset tersebut sedikit yaitu 14 buah record."
   ]
  },
  {
   "cell_type": "markdown",
   "metadata": {},
   "source": [
    "## Kesimpulan\n",
    "### Berdasarkan pengujian dengan menggunakan dataset 'Breast Cancer' dan 'Play Tennis' di atas, dapat terlihat bahwa dataset 'Play Tennis' menghasilkan nilai yang kurang akurat. Hal ini dikarenakan jumlah data pada dataset 'Play Tennis' sangat sedikit."
   ]
  }
 ],
 "metadata": {
  "interpreter": {
   "hash": "2be5faf79681da6f2a61fdfdd5405d65d042280f7fba6178067603e3a2925119"
  },
  "kernelspec": {
   "display_name": "Python 3 (ipykernel)",
   "language": "python",
   "name": "python3"
  },
  "language_info": {
   "codemirror_mode": {
    "name": "ipython",
    "version": 3
   },
   "file_extension": ".py",
   "mimetype": "text/x-python",
   "name": "python",
   "nbconvert_exporter": "python",
   "pygments_lexer": "ipython3",
   "version": "3.9.0"
  }
 },
 "nbformat": 4,
 "nbformat_minor": 2
}
