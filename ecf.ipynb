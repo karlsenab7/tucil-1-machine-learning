{
 "cells": [
  {
   "cell_type": "code",
   "execution_count": 1,
   "metadata": {},
   "outputs": [],
   "source": [
    "# import\n",
    "from sklearn.datasets import load_breast_cancer, make_classification\n",
    "from sklearn import tree, preprocessing\n",
    "from sklearn.tree import export_text\n",
    "from sklearn.model_selection import train_test_split\n",
    "from sklearn.metrics import accuracy_score, f1_score\n",
    "from sklearn.cluster import KMeans\n",
    "from sklearn.neural_network import MLPClassifier\n",
    "\n",
    "import pandas as pd\n",
    "import matplotlib.pyplot as plt\n",
    "\n",
    "import six\n",
    "import sys\n",
    "sys.modules['sklearn.externals.six'] = six\n",
    "from id3 import Id3Estimator"
   ]
  },
  {
   "cell_type": "code",
   "execution_count": 2,
   "metadata": {},
   "outputs": [],
   "source": [
    "# data\n",
    "# breast_cancer\n",
    "breast_cancer = load_breast_cancer()\n",
    "X_train_bc, X_test_bc, y_train_bc, y_test_bc = train_test_split(\n",
    "    breast_cancer.data, \n",
    "    breast_cancer.target, \n",
    "    test_size=0.2,\n",
    "    random_state=0\n",
    ")\n",
    "\n",
    "# play_tennis\n",
    "play_tennis = pd.read_csv('PlayTennis.csv')\n",
    "feature_names_pt = ['Outlook','Temperature','Humidity','Wind']\n",
    "encode_play_tennis= preprocessing.LabelEncoder()\n",
    "play_tennis=play_tennis.apply(encode_play_tennis.fit_transform)\n",
    "X_train_pt, X_test_pt, y_train_pt, y_test_pt = train_test_split(\n",
    "    play_tennis[feature_names_pt], \n",
    "    play_tennis['Play Tennis'], \n",
    "    test_size=0.2,\n",
    "    random_state=0\n",
    ")"
   ]
  },
  {
   "cell_type": "markdown",
   "metadata": {},
   "source": [
    "# C - Breast cancer"
   ]
  },
  {
   "cell_type": "code",
   "execution_count": 31,
   "metadata": {},
   "outputs": [
    {
     "name": "stdout",
     "output_type": "stream",
     "text": [
      "Accuracy Score for Breast cancer Dataset:  0.18421052631578946\n",
      "F1 Score for Breast cancer Dataset:  0.0\n",
      "KMeans Score for Breast cancer Dataset:  -12647456.491017891\n"
     ]
    }
   ],
   "source": [
    "km = KMeans(n_clusters=2, random_state=0)\n",
    "y_km = km.fit(X_train_bc)\n",
    "r = y_km.score(X_test_bc, y_test_bc)\n",
    "r_predict = y_km.predict(X_test_bc)\n",
    "print(\"Accuracy Score for Breast cancer Dataset: \", accuracy_score(y_test_bc, r_predict))\n",
    "print(\"F1 Score for Breast cancer Dataset: \", f1_score(y_test_bc, r_predict))\n",
    "print(\"KMeans Score for Breast cancer Dataset: \", r)\n"
   ]
  },
  {
   "cell_type": "markdown",
   "metadata": {},
   "source": [
    "# C - Play Tennis"
   ]
  },
  {
   "cell_type": "code",
   "execution_count": 27,
   "metadata": {},
   "outputs": [
    {
     "name": "stdout",
     "output_type": "stream",
     "text": [
      "Accuracy Score for Play Tennis Dataset:  0.6666666666666666\n",
      "F1 Score for Play Tennis Dataset:  0.8\n",
      "KMeans Score for Play Tennis Dataset:  -7.441326530612244\n"
     ]
    }
   ],
   "source": [
    "km = KMeans(n_clusters=2, random_state=0)\n",
    "y_km = km.fit(X_train_pt)\n",
    "r = y_km.score(X_test_pt, y_test_pt);\n",
    "r_predict = y_km.predict(X_test_pt)\n",
    "print(\"Accuracy Score for Play Tennis Dataset: \", accuracy_score(y_test_pt, r_predict))\n",
    "print(\"F1 Score for Play Tennis Dataset: \", f1_score(y_test_pt, r_predict))\n",
    "print(\"KMeans Score for Play Tennis Dataset: \", r)"
   ]
  }
 ],
 "metadata": {
  "interpreter": {
   "hash": "9ce617fb946f4323cdd56b13ccbb455c10d4fb4e6e138981c3f6f08177c21c55"
  },
  "kernelspec": {
   "display_name": "Python 3.9.0 64-bit",
   "language": "python",
   "name": "python3"
  },
  "language_info": {
   "codemirror_mode": {
    "name": "ipython",
    "version": 3
   },
   "file_extension": ".py",
   "mimetype": "text/x-python",
   "name": "python",
   "nbconvert_exporter": "python",
   "pygments_lexer": "ipython3",
   "version": "3.9.0"
  },
  "orig_nbformat": 4
 },
 "nbformat": 4,
 "nbformat_minor": 2
}
