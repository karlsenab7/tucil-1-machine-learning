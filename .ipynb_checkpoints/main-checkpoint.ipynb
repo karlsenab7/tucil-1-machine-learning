{
 "cells": [
  {
   "cell_type": "code",
   "execution_count": 1,
   "metadata": {},
   "outputs": [
    {
     "ename": "ModuleNotFoundError",
     "evalue": "No module named 'id3'",
     "output_type": "error",
     "traceback": [
      "\u001b[1;31m---------------------------------------------------------------------------\u001b[0m",
      "\u001b[1;31mModuleNotFoundError\u001b[0m                       Traceback (most recent call last)",
      "\u001b[1;32m~\\AppData\\Local\\Temp/ipykernel_14960/3293845721.py\u001b[0m in \u001b[0;36m<module>\u001b[1;34m\u001b[0m\n\u001b[0;32m     11\u001b[0m \u001b[1;32mimport\u001b[0m \u001b[0msys\u001b[0m\u001b[1;33m\u001b[0m\u001b[1;33m\u001b[0m\u001b[0m\n\u001b[0;32m     12\u001b[0m \u001b[0msys\u001b[0m\u001b[1;33m.\u001b[0m\u001b[0mmodules\u001b[0m\u001b[1;33m[\u001b[0m\u001b[1;34m'sklearn.externals.six'\u001b[0m\u001b[1;33m]\u001b[0m \u001b[1;33m=\u001b[0m \u001b[0msix\u001b[0m\u001b[1;33m\u001b[0m\u001b[1;33m\u001b[0m\u001b[0m\n\u001b[1;32m---> 13\u001b[1;33m \u001b[1;32mfrom\u001b[0m \u001b[0mid3\u001b[0m \u001b[1;32mimport\u001b[0m \u001b[0mId3Estimator\u001b[0m\u001b[1;33m\u001b[0m\u001b[1;33m\u001b[0m\u001b[0m\n\u001b[0m",
      "\u001b[1;31mModuleNotFoundError\u001b[0m: No module named 'id3'"
     ]
    }
   ],
   "source": [
    "# import\n",
    "from sklearn.datasets import load_breast_cancer\n",
    "from sklearn import tree, preprocessing\n",
    "from sklearn.tree import export_text\n",
    "from sklearn.model_selection import train_test_split\n",
    "from sklearn.metrics import accuracy_score, f1_score\n",
    "\n",
    "import pandas as pd\n",
    "\n",
    "import six\n",
    "import sys\n",
    "sys.modules['sklearn.externals.six'] = six\n",
    "from id3 import Id3Estimator"
   ]
  },
  {
   "cell_type": "code",
   "execution_count": null,
   "metadata": {},
   "outputs": [],
   "source": [
    "# data\n",
    "# breast_cancer\n",
    "breast_cancer = load_breast_cancer()\n",
    "X_train_bc, X_test_bc, y_train_bc, y_test_bc = train_test_split(\n",
    "    breast_cancer.data, \n",
    "    breast_cancer.target, \n",
    "    test_size=0.2,\n",
    "    random_state=0\n",
    ")\n",
    "\n",
    "# play_tennis\n",
    "play_tennis = pd.read_csv('PlayTennis.csv')\n",
    "feature_names_pt = ['Outlook','Temperature','Humidity','Wind']\n",
    "encode_play_tennis= preprocessing.LabelEncoder()\n",
    "play_tennis=play_tennis.apply(encode_play_tennis.fit_transform)\n",
    "X_train_pt, X_test_pt, y_train_pt, y_test_pt = train_test_split(\n",
    "    play_tennis[feature_names_pt], \n",
    "    play_tennis['Play Tennis'], \n",
    "    test_size=0.2,\n",
    "    random_state=0\n",
    ")"
   ]
  },
  {
   "cell_type": "markdown",
   "metadata": {},
   "source": [
    "Nomor 2 A Breast Cancer"
   ]
  },
  {
   "cell_type": "code",
   "execution_count": null,
   "metadata": {},
   "outputs": [],
   "source": [
    "# Nomor 2 A breast_cancer\n",
    "\n",
    "clf_bc_A = tree.DecisionTreeClassifier()\n",
    "clf_bc_A = clf_bc_A.fit(X_train_bc, y_train_bc)\n",
    "r = export_text(clf_bc_A, feature_names=list(breast_cancer.feature_names))\n",
    "r_predict = clf_bc_A.predict(X_test_bc)\n",
    "print(\"Accuracy Score for Breast Cancer Dataset: \", accuracy_score(y_test_bc, r_predict))\n",
    "print(\"F1 Score for Breast Cancer Dataset: \", f1_score(y_test_bc, r_predict))\n",
    "print(r)"
   ]
  },
  {
   "cell_type": "markdown",
   "metadata": {},
   "source": [
    "Nomor 2 A Play Tennis"
   ]
  },
  {
   "cell_type": "code",
   "execution_count": 4,
   "metadata": {},
   "outputs": [
    {
     "name": "stdout",
     "output_type": "stream",
     "text": [
      "Accuracy Score for Play Tennis Dataset:  0.3333333333333333\n",
      "F1 Score for Play Tennis Dataset:  0.5\n",
      "|--- Outlook <= 0.50\n",
      "|   |--- class: 1\n",
      "|--- Outlook >  0.50\n",
      "|   |--- Temperature <= 1.50\n",
      "|   |   |--- class: 0\n",
      "|   |--- Temperature >  1.50\n",
      "|   |   |--- Humidity <= 0.50\n",
      "|   |   |   |--- Wind <= 0.50\n",
      "|   |   |   |   |--- class: 0\n",
      "|   |   |   |--- Wind >  0.50\n",
      "|   |   |   |   |--- Outlook <= 1.50\n",
      "|   |   |   |   |   |--- class: 1\n",
      "|   |   |   |   |--- Outlook >  1.50\n",
      "|   |   |   |   |   |--- class: 0\n",
      "|   |   |--- Humidity >  0.50\n",
      "|   |   |   |--- class: 1\n",
      "\n"
     ]
    }
   ],
   "source": [
    "# Nomor 2 A Play Tennis\n",
    "\n",
    "clf_pt_A = tree.DecisionTreeClassifier()\n",
    "clf_pt_A = clf_pt_A.fit(X_train_pt, y_train_pt)\n",
    "r = export_text(clf_pt_A, feature_names=feature_names_pt)\n",
    "r_predict = clf_pt_A.predict(X_test_pt)\n",
    "print(\"Accuracy Score for Play Tennis Dataset: \", accuracy_score(y_test_pt, r_predict))\n",
    "print(\"F1 Score for Play Tennis Dataset: \", f1_score(y_test_pt, r_predict))\n",
    "print(r)"
   ]
  },
  {
   "cell_type": "markdown",
   "metadata": {},
   "source": [
    "Nomor 2 B Breast Cancer"
   ]
  },
  {
   "cell_type": "code",
   "execution_count": 6,
   "metadata": {},
   "outputs": [
    {
     "ename": "TypeError",
     "evalue": "<id3.tree.Tree object at 0x000002AFD0B9A8C0> is not an estimator instance.",
     "output_type": "error",
     "traceback": [
      "\u001b[1;31m---------------------------------------------------------------------------\u001b[0m",
      "\u001b[1;31mTypeError\u001b[0m                                 Traceback (most recent call last)",
      "\u001b[1;32mc:\\Users\\user\\Documents\\KULIAH\\Semester 6\\ML\\Tucil1\\tucil-1-machine-learning\\main.ipynb Cell 8'\u001b[0m in \u001b[0;36m<module>\u001b[1;34m\u001b[0m\n\u001b[0;32m      <a href='vscode-notebook-cell:/c%3A/Users/user/Documents/KULIAH/Semester%206/ML/Tucil1/tucil-1-machine-learning/main.ipynb#ch0000007?line=0'>1</a>\u001b[0m clf_bc_B \u001b[39m=\u001b[39m Id3Estimator()\n\u001b[0;32m      <a href='vscode-notebook-cell:/c%3A/Users/user/Documents/KULIAH/Semester%206/ML/Tucil1/tucil-1-machine-learning/main.ipynb#ch0000007?line=1'>2</a>\u001b[0m clf_bc_B \u001b[39m=\u001b[39m clf_bc_B\u001b[39m.\u001b[39mfit(X_train_bc, y_train_bc)\n\u001b[1;32m----> <a href='vscode-notebook-cell:/c%3A/Users/user/Documents/KULIAH/Semester%206/ML/Tucil1/tucil-1-machine-learning/main.ipynb#ch0000007?line=2'>3</a>\u001b[0m r \u001b[39m=\u001b[39m export_text(clf_bc_B\u001b[39m.\u001b[39;49mtree_, feature_names\u001b[39m=\u001b[39;49m\u001b[39mlist\u001b[39;49m(breast_cancer\u001b[39m.\u001b[39;49mfeature_names))\n\u001b[0;32m      <a href='vscode-notebook-cell:/c%3A/Users/user/Documents/KULIAH/Semester%206/ML/Tucil1/tucil-1-machine-learning/main.ipynb#ch0000007?line=3'>4</a>\u001b[0m r_predict \u001b[39m=\u001b[39m clf_bc_B\u001b[39m.\u001b[39mpredict(X_test_bc)\n\u001b[0;32m      <a href='vscode-notebook-cell:/c%3A/Users/user/Documents/KULIAH/Semester%206/ML/Tucil1/tucil-1-machine-learning/main.ipynb#ch0000007?line=4'>5</a>\u001b[0m \u001b[39mprint\u001b[39m(\u001b[39m\"\u001b[39m\u001b[39mAccuracy Score for Breast Cancer Dataset: \u001b[39m\u001b[39m\"\u001b[39m, accuracy_score(y_test_bc, r_predict))\n",
      "File \u001b[1;32mC:\\Python310\\lib\\site-packages\\sklearn\\tree\\_export.py:987\u001b[0m, in \u001b[0;36mexport_text\u001b[1;34m(decision_tree, feature_names, max_depth, spacing, decimals, show_weights)\u001b[0m\n\u001b[0;32m    <a href='file:///c%3A/Python310/lib/site-packages/sklearn/tree/_export.py?line=922'>923</a>\u001b[0m \u001b[39mdef\u001b[39;00m \u001b[39mexport_text\u001b[39m(\n\u001b[0;32m    <a href='file:///c%3A/Python310/lib/site-packages/sklearn/tree/_export.py?line=923'>924</a>\u001b[0m     decision_tree,\n\u001b[0;32m    <a href='file:///c%3A/Python310/lib/site-packages/sklearn/tree/_export.py?line=924'>925</a>\u001b[0m     \u001b[39m*\u001b[39m,\n\u001b[1;32m   (...)\u001b[0m\n\u001b[0;32m    <a href='file:///c%3A/Python310/lib/site-packages/sklearn/tree/_export.py?line=929'>930</a>\u001b[0m     show_weights\u001b[39m=\u001b[39m\u001b[39mFalse\u001b[39;00m,\n\u001b[0;32m    <a href='file:///c%3A/Python310/lib/site-packages/sklearn/tree/_export.py?line=930'>931</a>\u001b[0m ):\n\u001b[0;32m    <a href='file:///c%3A/Python310/lib/site-packages/sklearn/tree/_export.py?line=931'>932</a>\u001b[0m     \u001b[39m\"\"\"Build a text report showing the rules of a decision tree.\u001b[39;00m\n\u001b[0;32m    <a href='file:///c%3A/Python310/lib/site-packages/sklearn/tree/_export.py?line=932'>933</a>\u001b[0m \n\u001b[0;32m    <a href='file:///c%3A/Python310/lib/site-packages/sklearn/tree/_export.py?line=933'>934</a>\u001b[0m \u001b[39m    Note that backwards compatibility may not be supported.\u001b[39;00m\n\u001b[1;32m   (...)\u001b[0m\n\u001b[0;32m    <a href='file:///c%3A/Python310/lib/site-packages/sklearn/tree/_export.py?line=984'>985</a>\u001b[0m \u001b[39m    |   |   |--- class: 2\u001b[39;00m\n\u001b[0;32m    <a href='file:///c%3A/Python310/lib/site-packages/sklearn/tree/_export.py?line=985'>986</a>\u001b[0m \u001b[39m    \"\"\"\u001b[39;00m\n\u001b[1;32m--> <a href='file:///c%3A/Python310/lib/site-packages/sklearn/tree/_export.py?line=986'>987</a>\u001b[0m     check_is_fitted(decision_tree)\n\u001b[0;32m    <a href='file:///c%3A/Python310/lib/site-packages/sklearn/tree/_export.py?line=987'>988</a>\u001b[0m     tree_ \u001b[39m=\u001b[39m decision_tree\u001b[39m.\u001b[39mtree_\n\u001b[0;32m    <a href='file:///c%3A/Python310/lib/site-packages/sklearn/tree/_export.py?line=988'>989</a>\u001b[0m     \u001b[39mif\u001b[39;00m is_classifier(decision_tree):\n",
      "File \u001b[1;32mC:\\Python310\\lib\\site-packages\\sklearn\\utils\\validation.py:1208\u001b[0m, in \u001b[0;36mcheck_is_fitted\u001b[1;34m(estimator, attributes, msg, all_or_any)\u001b[0m\n\u001b[0;32m   <a href='file:///c%3A/Python310/lib/site-packages/sklearn/utils/validation.py?line=1201'>1202</a>\u001b[0m     msg \u001b[39m=\u001b[39m (\n\u001b[0;32m   <a href='file:///c%3A/Python310/lib/site-packages/sklearn/utils/validation.py?line=1202'>1203</a>\u001b[0m         \u001b[39m\"\u001b[39m\u001b[39mThis \u001b[39m\u001b[39m%(name)s\u001b[39;00m\u001b[39m instance is not fitted yet. Call \u001b[39m\u001b[39m'\u001b[39m\u001b[39mfit\u001b[39m\u001b[39m'\u001b[39m\u001b[39m with \u001b[39m\u001b[39m\"\u001b[39m\n\u001b[0;32m   <a href='file:///c%3A/Python310/lib/site-packages/sklearn/utils/validation.py?line=1203'>1204</a>\u001b[0m         \u001b[39m\"\u001b[39m\u001b[39mappropriate arguments before using this estimator.\u001b[39m\u001b[39m\"\u001b[39m\n\u001b[0;32m   <a href='file:///c%3A/Python310/lib/site-packages/sklearn/utils/validation.py?line=1204'>1205</a>\u001b[0m     )\n\u001b[0;32m   <a href='file:///c%3A/Python310/lib/site-packages/sklearn/utils/validation.py?line=1206'>1207</a>\u001b[0m \u001b[39mif\u001b[39;00m \u001b[39mnot\u001b[39;00m \u001b[39mhasattr\u001b[39m(estimator, \u001b[39m\"\u001b[39m\u001b[39mfit\u001b[39m\u001b[39m\"\u001b[39m):\n\u001b[1;32m-> <a href='file:///c%3A/Python310/lib/site-packages/sklearn/utils/validation.py?line=1207'>1208</a>\u001b[0m     \u001b[39mraise\u001b[39;00m \u001b[39mTypeError\u001b[39;00m(\u001b[39m\"\u001b[39m\u001b[39m%s\u001b[39;00m\u001b[39m is not an estimator instance.\u001b[39m\u001b[39m\"\u001b[39m \u001b[39m%\u001b[39m (estimator))\n\u001b[0;32m   <a href='file:///c%3A/Python310/lib/site-packages/sklearn/utils/validation.py?line=1209'>1210</a>\u001b[0m \u001b[39mif\u001b[39;00m attributes \u001b[39mis\u001b[39;00m \u001b[39mnot\u001b[39;00m \u001b[39mNone\u001b[39;00m:\n\u001b[0;32m   <a href='file:///c%3A/Python310/lib/site-packages/sklearn/utils/validation.py?line=1210'>1211</a>\u001b[0m     \u001b[39mif\u001b[39;00m \u001b[39mnot\u001b[39;00m \u001b[39misinstance\u001b[39m(attributes, (\u001b[39mlist\u001b[39m, \u001b[39mtuple\u001b[39m)):\n",
      "\u001b[1;31mTypeError\u001b[0m: <id3.tree.Tree object at 0x000002AFD0B9A8C0> is not an estimator instance."
     ]
    }
   ],
   "source": [
    "clf_bc_B = Id3Estimator()\n",
    "clf_bc_B = clf_bc_B.fit(X_train_bc, y_train_bc)\n",
    "r = export_text(clf_bc_B.tree_, feature_names=list(breast_cancer.feature_names))\n",
    "r_predict = clf_bc_B.predict(X_test_bc)\n",
    "print(\"Accuracy Score for Breast Cancer Dataset: \", accuracy_score(y_test_bc, r_predict))\n",
    "print(\"F1 Score for Breast Cancer Dataset: \", f1_score(y_test_bc, r_predict))\n",
    "print(r)"
   ]
  }
 ],
 "metadata": {
  "interpreter": {
   "hash": "2be5faf79681da6f2a61fdfdd5405d65d042280f7fba6178067603e3a2925119"
  },
  "kernelspec": {
   "display_name": "Python 3 (ipykernel)",
   "language": "python",
   "name": "python3"
  },
  "language_info": {
   "codemirror_mode": {
    "name": "ipython",
    "version": 3
   },
   "file_extension": ".py",
   "mimetype": "text/x-python",
   "name": "python",
   "nbconvert_exporter": "python",
   "pygments_lexer": "ipython3",
   "version": "3.9.7"
  }
 },
 "nbformat": 4,
 "nbformat_minor": 2
}
